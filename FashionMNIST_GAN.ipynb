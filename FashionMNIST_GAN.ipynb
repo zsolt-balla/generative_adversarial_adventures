{
  "nbformat": 4,
  "nbformat_minor": 0,
  "metadata": {
    "colab": {
      "name": "FashionMNIST_GAN.ipynb",
      "provenance": [],
      "collapsed_sections": []
    },
    "kernelspec": {
      "name": "python3",
      "display_name": "Python 3"
    },
    "accelerator": "GPU"
  },
  "cells": [
    {
      "cell_type": "markdown",
      "metadata": {
        "id": "UNu7A2UHgkGF",
        "colab_type": "text"
      },
      "source": [
        "## **Setup**\n",
        "\n",
        "Importing packages, downloading and normalising the FashionMNIST dataset."
      ]
    },
    {
      "cell_type": "code",
      "metadata": {
        "id": "lc5QQhqDOInc",
        "colab_type": "code",
        "colab": {}
      },
      "source": [
        "import tensorflow as tf\n",
        "import matplotlib.pyplot as plt\n",
        "import numpy as np\n",
        "import time"
      ],
      "execution_count": null,
      "outputs": []
    },
    {
      "cell_type": "code",
      "metadata": {
        "id": "ajwXDKZWQahe",
        "colab_type": "code",
        "colab": {
          "base_uri": "https://localhost:8080/",
          "height": 438
        },
        "outputId": "425e3240-99f9-4836-c28d-0a4f97243aa7"
      },
      "source": [
        "(train_images, train_labels), (test_images, test_labels) = tf.keras.datasets.fashion_mnist.load_data()\n",
        "plt.imshow(train_images[0])"
      ],
      "execution_count": null,
      "outputs": [
        {
          "output_type": "stream",
          "text": [
            "Downloading data from https://storage.googleapis.com/tensorflow/tf-keras-datasets/train-labels-idx1-ubyte.gz\n",
            "32768/29515 [=================================] - 0s 0us/step\n",
            "Downloading data from https://storage.googleapis.com/tensorflow/tf-keras-datasets/train-images-idx3-ubyte.gz\n",
            "26427392/26421880 [==============================] - 0s 0us/step\n",
            "Downloading data from https://storage.googleapis.com/tensorflow/tf-keras-datasets/t10k-labels-idx1-ubyte.gz\n",
            "8192/5148 [===============================================] - 0s 0us/step\n",
            "Downloading data from https://storage.googleapis.com/tensorflow/tf-keras-datasets/t10k-images-idx3-ubyte.gz\n",
            "4423680/4422102 [==============================] - 0s 0us/step\n"
          ],
          "name": "stdout"
        },
        {
          "output_type": "execute_result",
          "data": {
            "text/plain": [
              "<matplotlib.image.AxesImage at 0x7f4833023f60>"
            ]
          },
          "metadata": {
            "tags": []
          },
          "execution_count": 2
        },
        {
          "output_type": "display_data",
          "data": {
            "image/png": "[encoded data removed]",
            "text/plain": [
              "<Figure size 432x288 with 1 Axes>"
            ]
          },
          "metadata": {
            "tags": [],
            "needs_background": "light"
          }
        }
      ]
    },
    {
      "cell_type": "code",
      "metadata": {
        "id": "hdKwh0upSh3_",
        "colab_type": "code",
        "colab": {}
      },
      "source": [
        "train_images = train_images.reshape(train_images.shape[0],28,28, 1)\n",
        "# normalise the data - shift pixel brightness representation into [-1 ; 1]\n",
        "train_images = (train_images - 127.5) / 127.5\n",
        "# check:\n",
        "# train_images[0]"
      ],
      "execution_count": null,
      "outputs": []
    },
    {
      "cell_type": "code",
      "metadata": {
        "id": "-Aa8t2c9Tx7_",
        "colab_type": "code",
        "colab": {}
      },
      "source": [
        "BATCH_SIZE = 100\n",
        "train_dataset = tf.data.Dataset.from_tensor_slices(train_images).shuffle(train_images.shape[0]).batch(BATCH_SIZE)"
      ],
      "execution_count": null,
      "outputs": []
    },
    {
      "cell_type": "markdown",
      "metadata": {
        "id": "ik3lECfJWCUh",
        "colab_type": "text"
      },
      "source": [
        "## **Creating a Discriminator Model**"
      ]
    },
    {
      "cell_type": "code",
      "metadata": {
        "id": "jSRdMq2nWAtP",
        "colab_type": "code",
        "colab": {}
      },
      "source": [
        "def make_discriminator_model():\n",
        "  model = tf.keras.Sequential()\n",
        "  model.add(tf.keras.layers.Conv2D(7, (3, 3), padding=\"same\", input_shape=(28, 28, 1)))\n",
        "  model.add(tf.keras.layers.Flatten())\n",
        "  model.add(tf.keras.layers.LeakyReLU())\n",
        "  model.add(tf.keras.layers.Dense(50, activation=\"relu\"))\n",
        "  model.add(tf.keras.layers.Dense(1))\n",
        "  \n",
        "  return model"
      ],
      "execution_count": null,
      "outputs": []
    },
    {
      "cell_type": "code",
      "metadata": {
        "id": "K5pu7OY-XCkR",
        "colab_type": "code",
        "colab": {}
      },
      "source": [
        "discriminator = make_discriminator_model()"
      ],
      "execution_count": null,
      "outputs": []
    },
    {
      "cell_type": "code",
      "metadata": {
        "id": "V9uvn-u1XIKo",
        "colab_type": "code",
        "colab": {
          "base_uri": "https://localhost:8080/",
          "height": 282
        },
        "outputId": "40a9c0bf-2370-4872-fad0-2fabde8abcec"
      },
      "source": [
        "noise = np.random.rand(1,28,28,1).astype(\"float32\")\n",
        "plt.imshow(noise[0].reshape(28,28))\n",
        "discriminator(noise)"
      ],
      "execution_count": null,
      "outputs": [
        {
          "output_type": "execute_result",
          "data": {
            "text/plain": [
              "<tf.Tensor: shape=(1, 1), dtype=float32, numpy=array([[0.23901644]], dtype=float32)>"
            ]
          },
          "metadata": {
            "tags": []
          },
          "execution_count": 7
        },
        {
          "output_type": "display_data",
          "data": {
            "image/png": "[encoded data removed]",
            "text/plain": [
              "<Figure size 432x288 with 1 Axes>"
            ]
          },
          "metadata": {
            "tags": [],
            "needs_background": "light"
          }
        }
      ]
    },
    {
      "cell_type": "code",
      "metadata": {
        "id": "Zjyk1ND0eSQv",
        "colab_type": "code",
        "colab": {}
      },
      "source": [
        "discriminator_optimizer = tf.optimizers.Adam(1e-3)"
      ],
      "execution_count": null,
      "outputs": []
    },
    {
      "cell_type": "code",
      "metadata": {
        "id": "vcWwK6lyeaKQ",
        "colab_type": "code",
        "colab": {}
      },
      "source": [
        "def get_discriminator_loss(real_pred, fake_pred):\n",
        "  real_pred = tf.sigmoid(real_pred)\n",
        "  fake_pred = tf.sigmoid(fake_pred)\n",
        "  # BCE between 1 values and each prediction about real images\n",
        "  real_loss = tf.losses.binary_crossentropy(tf.ones_like(real_pred), real_pred)\n",
        "  # BCE between 0 values and each pred. about fake images\n",
        "  fake_loss = tf.losses.binary_crossentropy(tf.zeros_like(fake_pred), fake_pred)\n",
        "  return real_loss + fake_loss"
      ],
      "execution_count": null,
      "outputs": []
    },
    {
      "cell_type": "markdown",
      "metadata": {
        "id": "jYUYDftCgbqT",
        "colab_type": "text"
      },
      "source": [
        "## **Creating a Generator**"
      ]
    },
    {
      "cell_type": "code",
      "metadata": {
        "id": "8frSfNIZgYgW",
        "colab_type": "code",
        "colab": {}
      },
      "source": [
        "def make_generator_model():\n",
        "  model = tf.keras.Sequential()\n",
        "  model.add(tf.keras.layers.Dense(7*7*256, input_shape = (100, )))\n",
        "  model.add(tf.keras.layers.BatchNormalization())\n",
        "  model.add(tf.keras.layers.Reshape((7,7,256)))\n",
        "  model.add(tf.keras.layers.Conv2DTranspose(128,(3,3), padding=\"same\"))\n",
        "  model.add(tf.keras.layers.BatchNormalization())\n",
        "  model.add(tf.keras.layers.Conv2DTranspose(64,(3,3), strides=(2,2), padding=\"same\"))\n",
        "  model.add(tf.keras.layers.BatchNormalization())\n",
        "  model.add(tf.keras.layers.Conv2DTranspose(1,(3,3), strides=(2,2), padding=\"same\"))\n",
        "  \n",
        "  return model"
      ],
      "execution_count": null,
      "outputs": []
    },
    {
      "cell_type": "code",
      "metadata": {
        "id": "EuHLNg6Aj4Fx",
        "colab_type": "code",
        "colab": {}
      },
      "source": [
        "generator = make_generator_model()"
      ],
      "execution_count": null,
      "outputs": []
    },
    {
      "cell_type": "code",
      "metadata": {
        "id": "3fHGGcyJkcf7",
        "colab_type": "code",
        "colab": {}
      },
      "source": [
        "generator_optimizer = tf.optimizers.Adam(1e-4)"
      ],
      "execution_count": null,
      "outputs": []
    },
    {
      "cell_type": "code",
      "metadata": {
        "id": "ZFjqGLQGkApT",
        "colab_type": "code",
        "colab": {}
      },
      "source": [
        "def get_generator_loss(fake_pred):\n",
        "  fake_pred = tf.sigmoid(fake_pred)\n",
        "  # BCE between 1 values and each pred. about fake images\n",
        "  # (Since the generator wants to fool the discriminator)\n",
        "  fake_loss = tf.losses.binary_crossentropy(tf.ones_like(fake_pred), fake_pred)\n",
        "  return fake_loss"
      ],
      "execution_count": null,
      "outputs": []
    },
    {
      "cell_type": "markdown",
      "metadata": {
        "id": "BO3bq5zqko1O",
        "colab_type": "text"
      },
      "source": [
        "## **Training**\n",
        "  "
      ]
    },
    {
      "cell_type": "code",
      "metadata": {
        "id": "XMzUvxbmkueF",
        "colab_type": "code",
        "colab": {}
      },
      "source": [
        "def train(dataset, epochs):\n",
        "  for _ in range(epochs):\n",
        "    for images in dataset:\n",
        "      images = tf.cast(images, tf.dtypes.float32)\n",
        "      train_step(images)"
      ],
      "execution_count": null,
      "outputs": []
    },
    {
      "cell_type": "code",
      "metadata": {
        "id": "_-ZYTVEllKX4",
        "colab_type": "code",
        "colab": {}
      },
      "source": [
        "def train_step(images):\n",
        "  fake_image_noise = np.random.randn(BATCH_SIZE, 100).astype(\"float32\")\n",
        "  with tf.GradientTape() as gen_tape, tf.GradientTape() as disc_tape:\n",
        "    generated_images = generator(fake_image_noise)\n",
        "    real_output = discriminator(images)\n",
        "    fake_output = discriminator(generated_images)\n",
        "\n",
        "    gen_loss = get_generator_loss(fake_output)\n",
        "    disc_loss = get_discriminator_loss(real_output, fake_output)\n",
        "\n",
        "    gen_gradients = gen_tape.gradient(gen_loss, generator.trainable_variables)\n",
        "    disc_gradients = disc_tape.gradient(disc_loss, discriminator.trainable_variables)\n",
        "\n",
        "    generator_optimizer.apply_gradients(zip(gen_gradients, generator.trainable_variables))\n",
        "    discriminator_optimizer.apply_gradients(zip(disc_gradients, discriminator.trainable_variables))\n",
        "\n",
        "    print(\"generator loss:     \", np.mean(gen_loss))\n",
        "    print(\"discriminator loss: \", np.mean(disc_loss))"
      ],
      "execution_count": null,
      "outputs": []
    },
    {
      "cell_type": "code",
      "metadata": {
        "id": "DzdG0kChAOIY",
        "colab_type": "code",
        "colab": {
          "base_uri": "https://localhost:8080/",
          "height": 1000
        },
        "outputId": "ee015788-ccf6-45ac-fa80-25c71b79dc1f"
      },
      "source": [
        "train(train_dataset, 10)"
      ],
      "execution_count": null,
      "outputs": [
        {
          "output_type": "stream",
          "text": [
            "\u001b[1;30;43mStreaming output truncated to the last 5000 lines.\u001b[0m\n",
            "discriminator loss:  0.044969477\n",
            "generator loss:      8.156314\n",
            "...",
            "generator loss:      4.9815907\n",
            "discriminator loss:  0.069391854\n"
          ],
          "name": "stdout"
        }
      ]
    },
    {
      "cell_type": "code",
      "metadata": {
        "id": "iG6xy4p2Aad7",
        "colab_type": "code",
        "colab": {
          "base_uri": "https://localhost:8080/",
          "height": 282
        },
        "outputId": "7de24ced-c295-49bf-cb27-7ee601069485"
      },
      "source": [
        "plt.imshow(tf.reshape(generator(np.random.randn(1,100)), (28,28)), cmap=\"gray\")"
      ],
      "execution_count": null,
      "outputs": [
        {
          "output_type": "execute_result",
          "data": {
            "text/plain": [
              "<matplotlib.image.AxesImage at 0x7f47cf76e470>"
            ]
          },
          "metadata": {
            "tags": []
          },
          "execution_count": 19
        },
        {
          "output_type": "display_data",
          "data": {
            "image/png": "[encoded data removed]",
            "text/plain": [
              "<Figure size 432x288 with 1 Axes>"
            ]
          },
          "metadata": {
            "tags": [],
            "needs_background": "light"
          }
        }
      ]
    }
  ]
}
